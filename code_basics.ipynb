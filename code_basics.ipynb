{
 "cells": [
  {
   "cell_type": "markdown",
   "metadata": {},
   "source": [
    "# Scripts to do the Code Basics for PH136"
   ]
  },
  {
   "cell_type": "code",
   "execution_count": 1,
   "metadata": {
    "collapsed": true
   },
   "outputs": [],
   "source": [
    "#  Import libraries\n",
    "from __future__ import print_function, absolute_import, division, unicode_literals\n",
    "\n",
    "import numpy as np\n",
    "import glob, os, sys\n"
   ]
  },
  {
   "cell_type": "markdown",
   "metadata": {},
   "source": [
    "## Variables"
   ]
  },
  {
   "cell_type": "code",
   "execution_count": 2,
   "metadata": {},
   "outputs": [
    {
     "name": "stdout",
     "output_type": "stream",
     "text": [
      "aa = 2\n"
     ]
    }
   ],
   "source": [
    "aa = 2\n",
    "print('aa = {:d}'.format(aa))"
   ]
  },
  {
   "cell_type": "code",
   "execution_count": 3,
   "metadata": {},
   "outputs": [
    {
     "name": "stdout",
     "output_type": "stream",
     "text": [
      "bb = 2*aa = 4\n"
     ]
    }
   ],
   "source": [
    "bb = 2 * aa\n",
    "print('bb = 2*aa = {:d}'.format(bb))"
   ]
  },
  {
   "cell_type": "code",
   "execution_count": 37,
   "metadata": {},
   "outputs": [
    {
     "name": "stdout",
     "output_type": "stream",
     "text": [
      "Info on variable cc=3\n",
      "Machine parameters for float64\n",
      "---------------------------------------------------------------------\n",
      "precision= 15   resolution= 1.0000000000000001e-15\n",
      "machep=   -52   eps=        2.2204460492503131e-16\n",
      "negep =   -53   epsneg=     1.1102230246251565e-16\n",
      "minexp= -1022   tiny=       2.2250738585072014e-308\n",
      "maxexp=  1024   max=        1.7976931348623157e+308\n",
      "nexp  =    11   min=        -max\n",
      "---------------------------------------------------------------------\n",
      "\n"
     ]
    }
   ],
   "source": [
    "cc = 3.\n",
    "print('Info on variable cc={:g}'.format(cc))\n",
    "print(np.finfo(cc))"
   ]
  },
  {
   "cell_type": "code",
   "execution_count": 38,
   "metadata": {},
   "outputs": [
    {
     "name": "stdout",
     "output_type": "stream",
     "text": [
      "0.14112000806\n"
     ]
    }
   ],
   "source": [
    "dd = np.sin(cc)\n",
    "print(dd)"
   ]
  },
  {
   "cell_type": "markdown",
   "metadata": {},
   "source": [
    "## Strings"
   ]
  },
  {
   "cell_type": "code",
   "execution_count": 5,
   "metadata": {},
   "outputs": [
    {
     "name": "stdout",
     "output_type": "stream",
     "text": [
      "My string is wakemeup\n"
     ]
    }
   ],
   "source": [
    "ss = str('wakemeup')\n",
    "print('My string is {:s}'.format(ss))"
   ]
  },
  {
   "cell_type": "code",
   "execution_count": 6,
   "metadata": {},
   "outputs": [
    {
     "name": "stdout",
     "output_type": "stream",
     "text": [
      "My new string is wakemeupz\n"
     ]
    }
   ],
   "source": [
    "new_ss = ss+'z'\n",
    "print('My new string is {:s}'.format(new_ss))"
   ]
  },
  {
   "cell_type": "code",
   "execution_count": 7,
   "metadata": {},
   "outputs": [
    {
     "name": "stdout",
     "output_type": "stream",
     "text": [
      "The position is 3\n"
     ]
    }
   ],
   "source": [
    "ipos = new_ss.find('e')\n",
    "print('The position is {:d}'.format(ipos))"
   ]
  },
  {
   "cell_type": "code",
   "execution_count": 8,
   "metadata": {},
   "outputs": [
    {
     "name": "stdout",
     "output_type": "stream",
     "text": [
      "new_ss == big?? False\n"
     ]
    }
   ],
   "source": [
    "flg = new_ss == 'big'\n",
    "print('new_ss == big?? {!r:^}'.format(flg))"
   ]
  },
  {
   "cell_type": "code",
   "execution_count": 9,
   "metadata": {},
   "outputs": [
    {
     "name": "stdout",
     "output_type": "stream",
     "text": [
      "My final string is wakimeupz\n"
     ]
    }
   ],
   "source": [
    "new_ss = new_ss.replace('e','i',1)\n",
    "print('My final string is {:s}'.format(new_ss))"
   ]
  },
  {
   "cell_type": "markdown",
   "metadata": {},
   "source": [
    "## Arrays"
   ]
  },
  {
   "cell_type": "code",
   "execution_count": 10,
   "metadata": {
    "scrolled": true
   },
   "outputs": [
    {
     "name": "stdout",
     "output_type": "stream",
     "text": [
      "[ 11.  11.  11.  11.  11.  11.  11.  11.  11.  11.  11.  11.  11.  11.  11.\n",
      "  11.  11.  11.  11.  11.  11.  11.  11.  11.  11.  11.  11.  11.  11.  11.\n",
      "  11.  11.  11.  11.  11.  11.  11.  11.  11.  11.  11.  11.  11.  11.  11.\n",
      "  11.  11.  11.  11.  11.  11.  11.  11.  11.  11.  11.  11.  11.  11.  11.\n",
      "  11.  11.  11.  11.  11.  11.  11.  11.  11.  11.  11.  11.  11.  11.  11.\n",
      "  11.  11.  11.  11.  11.  11.  11.  11.  11.  11.  11.  11.  11.  11.  11.\n",
      "  11.  11.  11.  11.  11.  11.  11.  11.  11.  11.]\n"
     ]
    }
   ],
   "source": [
    "aa = np.zeros(100)\n",
    "aa = np.ones(100)\n",
    "aa += 10\n",
    "# for ii in range(100):\n",
    "#    aa[ii] += 10\n",
    "print(aa)"
   ]
  },
  {
   "cell_type": "code",
   "execution_count": 39,
   "metadata": {},
   "outputs": [
    {
     "name": "stdout",
     "output_type": "stream",
     "text": [
      "[[ 100.  100.  100. ...,  100.  100.  100.]\n",
      " [ 101.  101.  101. ...,  101.  101.  101.]\n",
      " [ 102.  102.  102. ...,  102.  102.  102.]\n",
      " ..., \n",
      " [  97.   97.   97. ...,   97.   97.   97.]\n",
      " [  98.   98.   98. ...,   98.   98.   98.]\n",
      " [  99.   99.   99. ...,   99.   99.   99.]]\n"
     ]
    }
   ],
   "source": [
    "aa[0:50] += 100\n",
    "print(aa)"
   ]
  },
  {
   "cell_type": "code",
   "execution_count": 12,
   "metadata": {},
   "outputs": [
    {
     "name": "stdout",
     "output_type": "stream",
     "text": [
      "[ 50.  50.  50.  50.  50.  50.  50.  50.  50.  50.  50.  50.  50.  50.  50.\n",
      "  50.  50.  50.  50.  50.  50.  50.  50.  50.  50.  50.  50.  50.  50.  50.\n",
      "  50.  50.  50.  50.  50.  50.  50.  50.  50.  50.  50.  50.  50.  50.  50.\n",
      "  50.  50.  50.  50.  50.  50.  50.  50.  50.  50.  50.  50.  50.  50.  50.\n",
      "  50.  50.  50.  50.  50.  50.  50.  50.  50.  50.  50.  50.  50.  50.  50.\n",
      "  50.  50.  50.  50.  50.  50.  50.  50.  50.  50.  50.  50.  50.  50.  50.\n",
      "  50.  50.  50.  50.  50.  50.  50.  50.  50.  50.]\n"
     ]
    }
   ],
   "source": [
    "bb = np.zeros(100)\n",
    "bb[:] = 50\n",
    "print(bb)"
   ]
  },
  {
   "cell_type": "code",
   "execution_count": 13,
   "metadata": {},
   "outputs": [
    {
     "name": "stdout",
     "output_type": "stream",
     "text": [
      "[ 111.  111.  111.  111.  111.  111.  111.  111.  111.  111.  111.  111.\n",
      "  111.  111.  111.  111.  111.  111.  111.  111.  111.  111.  111.  111.\n",
      "  111.  111.  111.  111.  111.  111.  111.  111.  111.  111.  111.  111.\n",
      "  111.  111.  111.  111.  111.  111.  111.  111.  111.  111.  111.  111.\n",
      "  111.  111.   61.   61.   61.   61.   61.   61.   61.   61.   61.   61.\n",
      "   61.   61.   61.   61.   61.   61.   61.   61.   61.   61.   61.   61.\n",
      "   61.   61.   61.   61.   61.   61.   61.   61.   61.   61.   61.   61.\n",
      "   61.   61.   61.   61.   61.   61.   61.   61.   61.   61.   61.   61.\n",
      "   61.   61.   61.   61.]\n"
     ]
    }
   ],
   "source": [
    "cc = aa + bb\n",
    "print(cc)"
   ]
  },
  {
   "cell_type": "code",
   "execution_count": 14,
   "metadata": {},
   "outputs": [
    {
     "name": "stdout",
     "output_type": "stream",
     "text": [
      "[ 3050.  3050.  3050.  3050.  3050.  3050.  3050.  3050.  3050.  3050.\n",
      "  3050.  3050.  3050.  3050.  3050.  3050.  3050.  3050.  3050.  3050.\n",
      "  3050.  3050.  3050.  3050.  3050.  3050.  3050.  3050.  3050.  3050.\n",
      "  3050.  3050.  3050.  3050.  3050.  3050.  3050.  3050.  3050.  3050.\n",
      "  3050.  3050.  3050.  3050.  3050.  3050.  3050.  3050.  3050.  3050.\n",
      "   550.   550.   550.   550.   550.   550.   550.   550.   550.   550.\n",
      "   550.   550.   550.   550.   550.   550.   550.   550.   550.   550.\n",
      "   550.   550.   550.   550.   550.   550.   550.   550.   550.   550.\n",
      "   550.   550.   550.   550.   550.   550.   550.   550.   550.   550.\n",
      "   550.   550.   550.   550.   550.   550.   550.   550.   550.   550.]\n"
     ]
    }
   ],
   "source": [
    "dd = aa * bb\n",
    "print(dd)"
   ]
  },
  {
   "cell_type": "code",
   "execution_count": 15,
   "metadata": {},
   "outputs": [
    {
     "name": "stdout",
     "output_type": "stream",
     "text": [
      "[ 0  1  2  3  4  5  6  7  8  9 10 11 12 13 14 15 16 17 18 19 20 21 22 23 24\n",
      " 25 26 27 28 29 30 31 32 33 34 35 36 37 38 39 40 41 42 43 44 45 46 47 48 49\n",
      " 50 51 52 53 54 55 56 57 58 59 60 61 62 63 64 65 66 67 68 69 70 71 72 73 74\n",
      " 75 76 77 78 79 80 81 82 83 84 85 86 87 88 89 90 91 92 93 94 95 96 97 98 99]\n"
     ]
    }
   ],
   "source": [
    "ee = np.arange(100)\n",
    "print(ee)"
   ]
  },
  {
   "cell_type": "code",
   "execution_count": 40,
   "metadata": {},
   "outputs": [
    {
     "name": "stdout",
     "output_type": "stream",
     "text": [
      "[ 1  3  5  7  9 11 13 15 17 19 21 23 25 27 29 31 33 35 37 39 41 43 45 47 49\n",
      " 51 53 55 57 59 61 63 65 67 69 71 73 75 77 79 81 83 85 87 89 91 93 95 97 99]\n",
      "[-999   -1 -999   -1 -999   -1 -999   -1 -999   -1  -40   -1  -38   -1  -36\n",
      "   -1  -34   -1  -32   -1  -30   -1  -28   -1  -26   -1  -24   -1  -22   -1\n",
      "  -20   -1  -18   -1  -16   -1  -14   -1  -12   -1  -10   -1   -8   -1   -6\n",
      "   -1   -4   -1   -2   -1    0   -1    2   -1    4   -1    6   -1    8   -1\n",
      "   10   -1   12   -1   14   -1   16   -1   18   -1   20   -1   22   -1   24\n",
      "   -1   26   -1   28   -1   30   -1   32   -1   34   -1   36   -1   38   -1\n",
      "   40   -1 -999   -1 -999   -1 -999   -1 -999   -1 -999]\n"
     ]
    }
   ],
   "source": [
    "idx = np.arange(50)*2 + 1\n",
    "ee[idx] = -1\n",
    "# ee[1::2] = -1\n",
    "print(idx)\n",
    "print(ee)"
   ]
  },
  {
   "cell_type": "markdown",
   "metadata": {},
   "source": [
    "## Plotting"
   ]
  },
  {
   "cell_type": "code",
   "execution_count": 17,
   "metadata": {
    "collapsed": true
   },
   "outputs": [],
   "source": [
    "from matplotlib import pyplot as plt"
   ]
  },
  {
   "cell_type": "code",
   "execution_count": 19,
   "metadata": {
    "collapsed": true
   },
   "outputs": [],
   "source": [
    "%matplotlib inline"
   ]
  },
  {
   "cell_type": "code",
   "execution_count": 24,
   "metadata": {},
   "outputs": [
    {
     "data": {
      "image/png": "[encoded data removed]",
      "text/plain": [
       "<matplotlib.figure.Figure at 0x113355710>"
      ]
     },
     "metadata": {},
     "output_type": "display_data"
    }
   ],
   "source": [
    "if True:\n",
    "    plt.figure(dpi=700)\n",
    "    plt.clf()\n",
    "    plt.plot(aa)\n",
    "    plt.plot(bb, 'g.')\n",
    "    plt.plot(cc, 'r:')\n",
    "    plt.plot(dd, 'k--')\n",
    "    plt.show()"
   ]
  },
  {
   "cell_type": "markdown",
   "metadata": {},
   "source": [
    "## Where"
   ]
  },
  {
   "cell_type": "code",
   "execution_count": 43,
   "metadata": {},
   "outputs": [
    {
     "name": "stdout",
     "output_type": "stream",
     "text": [
      "[  0   1   2   3   4   5   6   7   8   9  91  92  93  94  95  96  97  98\n",
      "  99 100]\n"
     ]
    }
   ],
   "source": [
    "#ee = np.arange(101) - 50\n",
    "ee = np.arange(-50, 51)\n",
    "idx = np.where( np.abs(ee) > 40 )\n",
    "ee[idx] = -999.\n",
    "print(idx)\n",
    "#print(ee)"
   ]
  },
  {
   "cell_type": "markdown",
   "metadata": {},
   "source": [
    "## 2D Arrays"
   ]
  },
  {
   "cell_type": "code",
   "execution_count": 2,
   "metadata": {},
   "outputs": [],
   "source": [
    "aa = np.zeros( (100,100) )\n",
    "#for kk in range(100):\n",
    "#    aa[kk,:] = kk\n",
    "aa[:,] = np.arange(100)\n",
    "aa = np.transpose(aa)\n",
    "#aa = np.mgrid[0:100,0:100][0]\n",
    "#aa\n",
    "# Find a non for loop\n",
    "if True:\n",
    "    plt.clf()\n",
    "    plt.imshow(aa, origin='lower')\n",
    "    plt.xlabel('x')\n",
    "    plt.colorbar()\n",
    "    plt.show()"
   ]
  },
  {
   "cell_type": "code",
   "execution_count": 28,
   "metadata": {},
   "outputs": [
    {
     "data": {
      "image/png": "[encoded data removed]",
      "text/plain": [
       "<matplotlib.figure.Figure at 0x1143b6110>"
      ]
     },
     "metadata": {},
     "output_type": "display_data"
    }
   ],
   "source": [
    "bb = np.ones( (100,100) )\n",
    "cc = aa + bb\n",
    "dd = aa * bb\n",
    "if True:\n",
    "    plt.clf()\n",
    "    plt.plot(cc[:,2])\n",
    "    plt.show()"
   ]
  },
  {
   "cell_type": "markdown",
   "metadata": {},
   "source": [
    "# Save a figure"
   ]
  },
  {
   "cell_type": "code",
   "execution_count": 1,
   "metadata": {},
   "outputs": [],
   "source": [
    "from matplotlib.backends.backend_pdf import PdfPages\n",
    "outfil = 'tmp.pdf'\n",
    "if False:\n",
    "    print('Saving a figure to the Desktop: {:s}'.format(outfil))\n",
    "    plt.clf()\n",
    "    plt.imshow(aa, origin='lower')\n",
    "    plt.colorbar()\n",
    "    plt.xlabel('row')\n",
    "    plt.ylabel('column')\n",
    "    plt.savefig('/home/aalabi/Desktop/ASTR136/wk1_class/Exercise/'+outfil)\n"
   ]
  },
  {
   "cell_type": "markdown",
   "metadata": {},
   "source": [
    "## Module (see plot_sine.py)"
   ]
  },
  {
   "cell_type": "markdown",
   "metadata": {},
   "source": [
    "## Random numbers"
   ]
  },
  {
   "cell_type": "code",
   "execution_count": 44,
   "metadata": {},
   "outputs": [
    {
     "data": {
      "image/png": "[encoded data removed]",
      "text/plain": [
       "<matplotlib.figure.Figure at 0x113375750>"
      ]
     },
     "metadata": {},
     "output_type": "display_data"
    }
   ],
   "source": [
    "rr = np.random.randn(1000) + 1.\n",
    "if True:\n",
    "    plt.clf()\n",
    "    plt.hist(rr)\n",
    "    plt.show()"
   ]
  },
  {
   "cell_type": "code",
   "execution_count": 47,
   "metadata": {},
   "outputs": [
    {
     "data": {
      "image/png": "[encoded data removed]",
      "text/plain": [
       "<matplotlib.figure.Figure at 0x114855ad0>"
      ]
     },
     "metadata": {},
     "output_type": "display_data"
    }
   ],
   "source": [
    "bins = np.arange(-5, 5, 0.1)\n",
    "#print(bins)\n",
    "if True:\n",
    "    plt.clf()\n",
    "    plt.hist(rr, bins=bins) \n",
    "    plt.show()"
   ]
  },
  {
   "cell_type": "markdown",
   "metadata": {},
   "source": [
    "## Simple stats"
   ]
  },
  {
   "cell_type": "code",
   "execution_count": 32,
   "metadata": {},
   "outputs": [
    {
     "name": "stdout",
     "output_type": "stream",
     "text": [
      "Mean = 0.805463, Median = 0.746466, RMS = 0.870478\n"
     ]
    }
   ],
   "source": [
    "mu = np.mean(rr)\n",
    "med = np.median(rr)\n",
    "sig = np.std(rr)\n",
    "\n",
    "print('Mean = {:g}, Median = {:g}, RMS = {:g}'.format(mu, med, sig))"
   ]
  },
  {
   "cell_type": "code",
   "execution_count": 33,
   "metadata": {},
   "outputs": [
    {
     "name": "stdout",
     "output_type": "stream",
     "text": [
      "Mean = 0.841022, Median = 0.785754, RMS = 0.770237\n"
     ]
    }
   ],
   "source": [
    "gdv = np.where( np.abs(rr-mu) < (2*sig) )[0]\n",
    "mu2 = np.mean(rr[gdv])\n",
    "med2 = np.median(rr[gdv])\n",
    "sig2 = np.std(rr[gdv])\n",
    "print('Mean = {:g}, Median = {:g}, RMS = {:g}'.format(mu2, med2, sig2))\n"
   ]
  },
  {
   "cell_type": "code",
   "execution_count": null,
   "metadata": {
    "collapsed": true
   },
   "outputs": [],
   "source": []
  }
 ],
 "metadata": {
  "kernelspec": {
   "display_name": "Python 3",
   "language": "python",
   "name": "python3"
  },
  "language_info": {
   "codemirror_mode": {
    "name": "ipython",
    "version": 3
   },
   "file_extension": ".py",
   "mimetype": "text/x-python",
   "name": "python",
   "nbconvert_exporter": "python",
   "pygments_lexer": "ipython3",
   "version": "3.7.6"
  }
 },
 "nbformat": 4,
 "nbformat_minor": 1
}
