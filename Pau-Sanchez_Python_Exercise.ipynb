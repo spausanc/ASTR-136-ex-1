{
 "cells": [
  {
   "cell_type": "markdown",
   "metadata": {},
   "source": [
    "## Plotting the histogram and Gaussian of a random distribution"
   ]
  },
  {
   "cell_type": "code",
   "execution_count": 42,
   "metadata": {},
   "outputs": [],
   "source": [
    "#  Import libraries\n",
    "from __future__ import print_function, absolute_import, division, unicode_literals\n",
    "\n",
    "import numpy as np\n",
    "import matplotlib.pyplot as plt"
   ]
  },
  {
   "cell_type": "code",
   "execution_count": 43,
   "metadata": {},
   "outputs": [],
   "source": [
    "# Define a gaussian function\n",
    "\n",
    "def gaussian(x, mean, RMS):\n",
    "    g = (1/(RMS * np.sqrt(2*np.pi))) * np.exp(-(x-mean)**2 / (2*(RMS**2)))\n",
    "    return g\n",
    "    "
   ]
  },
  {
   "cell_type": "code",
   "execution_count": 44,
   "metadata": {},
   "outputs": [],
   "source": [
    "# Define a function that creates a distribution and plots\n",
    "\n",
    "def function(size, binsize, mean, RMS):\n",
    "    \n",
    "    # Create a normal distribution with inputted parameters\n",
    "    sample = np.random.normal(mean, RMS, size)\n",
    "    \n",
    "    plt.figure()\n",
    "    \n",
    "    # Create a histogram \n",
    "    y_values, bins, patches = plt.hist(sample, bins=binsize,\n",
    "                                       density=True)\n",
    "    \n",
    "    # Create the Gaussian curve\n",
    "    gauss = gaussian(bins, mean, RMS)\n",
    "    \n",
    "    # Plot Gaussian\n",
    "    plt.plot(bins, gauss)\n",
    "    \n",
    "    plt.xlabel(\"Values\")\n",
    "    plt.ylabel(\"Probability\")\n",
    "    plt.title(\"Histogram of Values\")\n",
    "    plt.savefig(\"Pau-Sanchez_Python_Ex.pdf\")\n",
    "    \n",
    "    return"
   ]
  },
  {
   "cell_type": "markdown",
   "metadata": {},
   "source": [
    "### Select your desired inputs and Run"
   ]
  },
  {
   "cell_type": "code",
   "execution_count": 45,
   "metadata": {},
   "outputs": [],
   "source": [
    "size = 1000\n",
    "binsize = 100\n",
    "mean = 1\n",
    "RMS = 2\n"
   ]
  },
  {
   "cell_type": "code",
   "execution_count": 46,
   "metadata": {},
   "outputs": [
    {
     "data": {
      "image/png": "[encoded data removed]",
      "text/plain": [
       "<Figure size 432x288 with 1 Axes>"
      ]
     },
     "metadata": {
      "needs_background": "light"
     },
     "output_type": "display_data"
    }
   ],
   "source": [
    "function(size, binsize, mean, RMS)\n"
   ]
  },
  {
   "cell_type": "code",
   "execution_count": null,
   "metadata": {},
   "outputs": [],
   "source": []
  }
 ],
 "metadata": {
  "kernelspec": {
   "display_name": "Python 3",
   "language": "python",
   "name": "python3"
  },
  "language_info": {
   "codemirror_mode": {
    "name": "ipython",
    "version": 3
   },
   "file_extension": ".py",
   "mimetype": "text/x-python",
   "name": "python",
   "nbconvert_exporter": "python",
   "pygments_lexer": "ipython3",
   "version": "3.7.6"
  }
 },
 "nbformat": 4,
 "nbformat_minor": 4
}
